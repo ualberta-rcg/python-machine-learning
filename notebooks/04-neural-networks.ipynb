{
 "cells": [
  {
   "cell_type": "markdown",
   "id": "serious-harvey",
   "metadata": {},
   "source": [
    "# Neural Networks\n",
    "\n",
    "Hopefully you've watched the three videos by [Grant Sanderson](https://twitter.com/3blue1brown) (a.k.a. [3blue1brown](https://www.youtube.com/channel/UCYO_jab_esuFRV4b17AJtAw)).\n",
    "\n",
    "* [But what is a Neural Network?](https://www.youtube.com/watch?v=aircAruvnKk) (19:13)\n",
    "* [Gradient descent, how neural networks learn](https://www.youtube.com/watch?v=IHZwWFHWa-w) (21:00)\n",
    "* [What is back propagation really doing?](https://www.youtube.com/watch?v=Ilg3gGewQ5U) (13:53)\n",
    "\n",
    "---"
   ]
  },
  {
   "cell_type": "markdown",
   "id": "rocky-plate",
   "metadata": {},
   "source": [
    "## A very brief recap\n",
    "\n",
    "Neurons:\n",
    "\n",
    "* Hold a value\n",
    "* This value is related to the values of neurons on previous layers via:\n",
    "    * weights\n",
    "    * bias\n",
    "    * activation function\n",
    "\n",
    "Neural network structure:\n",
    "\n",
    "<img src=\"https://upload.wikimedia.org/wikipedia/commons/1/1d/Neural_network_example.png\"  style=\"width:200px;\">\n",
    "\n",
    "* Input layer\n",
    "* one or more hidden layers (this is where the term \"deep\" comes from)\n",
    "* an output layer\n",
    "\n",
    "Learning:\n",
    "\n",
    "* minimizing a loss function through back propagation\n",
    "\n",
    "<img src=\"https://pbs.twimg.com/media/EybMJzOU8AY8g7M?format=png&name=small\"  style=\"width:400px;\">"
   ]
  },
  {
   "cell_type": "markdown",
   "id": "nervous-conspiracy",
   "metadata": {},
   "source": [
    "I will be adapting a lot of this material from the SciNet workshop on neural networks:\n",
    "\n",
    "https://support.scinet.utoronto.ca/education/go.php/451/index.php/ib/1//p_course/451\n",
    "\n",
    "Their course goes a lot deeper into the mathematics of neural networks."
   ]
  },
  {
   "cell_type": "code",
   "execution_count": null,
   "id": "contained-manor",
   "metadata": {},
   "outputs": [],
   "source": [
    "!pip install keras\n",
    "!pip install tensorflow"
   ]
  },
  {
   "cell_type": "code",
   "execution_count": null,
   "id": "mineral-canvas",
   "metadata": {},
   "outputs": [],
   "source": [
    "import keras\n",
    "from keras.datasets import mnist"
   ]
  },
  {
   "cell_type": "code",
   "execution_count": null,
   "id": "active-protest",
   "metadata": {},
   "outputs": [],
   "source": [
    "(x_train, y_train), (x_test, y_test) = mnist.load_data()"
   ]
  },
  {
   "cell_type": "code",
   "execution_count": null,
   "id": "naval-tomorrow",
   "metadata": {},
   "outputs": [],
   "source": [
    "x_train.shape"
   ]
  },
  {
   "cell_type": "code",
   "execution_count": null,
   "id": "under-london",
   "metadata": {},
   "outputs": [],
   "source": [
    "x_test.shape"
   ]
  },
  {
   "cell_type": "code",
   "execution_count": null,
   "id": "charming-smooth",
   "metadata": {},
   "outputs": [],
   "source": [
    "x_train[0]"
   ]
  },
  {
   "cell_type": "code",
   "execution_count": null,
   "id": "890239fd",
   "metadata": {},
   "outputs": [],
   "source": [
    "import PIL\n",
    "PIL.Image.fromarray(x_train[0])"
   ]
  },
  {
   "cell_type": "code",
   "execution_count": null,
   "id": "veterinary-evaluation",
   "metadata": {},
   "outputs": [],
   "source": [
    "y_train[0]"
   ]
  },
  {
   "cell_type": "markdown",
   "id": "future-header",
   "metadata": {},
   "source": [
    "Transform the data"
   ]
  },
  {
   "cell_type": "code",
   "execution_count": null,
   "id": "recent-block",
   "metadata": {},
   "outputs": [],
   "source": [
    "import keras.utils as ku\n",
    "\n",
    "x_train2 = x_train[0:500, :, :].reshape(500, 784)\n",
    "x_test2 = x_test[0:100, :, :].reshape(100, 784)\n",
    "y_train2 = ku.to_categorical(y_train[0:500], 10)\n",
    "y_test2 = ku.to_categorical(y_test[0:100], 10)"
   ]
  },
  {
   "cell_type": "code",
   "execution_count": null,
   "id": "elementary-resistance",
   "metadata": {},
   "outputs": [],
   "source": [
    "x_train2.shape"
   ]
  },
  {
   "cell_type": "code",
   "execution_count": null,
   "id": "coordinate-notice",
   "metadata": {},
   "outputs": [],
   "source": [
    "x_train2[0]"
   ]
  },
  {
   "cell_type": "code",
   "execution_count": null,
   "id": "portable-liechtenstein",
   "metadata": {},
   "outputs": [],
   "source": [
    "# Array of 28x28 inputs\n",
    "print(x_train[0][14][13])\n",
    "\n",
    "# Array of 784 inputs\n",
    "print(x_train2[0][14*28+13])"
   ]
  },
  {
   "cell_type": "code",
   "execution_count": null,
   "id": "surgical-neighbor",
   "metadata": {},
   "outputs": [],
   "source": [
    "y_train2[0]"
   ]
  },
  {
   "cell_type": "code",
   "execution_count": null,
   "id": "operating-queensland",
   "metadata": {},
   "outputs": [],
   "source": [
    "y_train2[0].argmax()"
   ]
  },
  {
   "cell_type": "markdown",
   "id": "opening-guide",
   "metadata": {},
   "source": [
    "# TODO: What does sequential mean"
   ]
  },
  {
   "cell_type": "code",
   "execution_count": null,
   "id": "unauthorized-relations",
   "metadata": {},
   "outputs": [],
   "source": [
    "import keras.models as km\n",
    "import keras.layers as kl\n",
    "\n",
    "def get_basic_model(numnodes):\n",
    "  model = km.Sequential()\n",
    "  model.add(kl.Dense(numnodes, input_dim = 784, activation = 'sigmoid', name = 'hidden'))\n",
    "  model.add(kl.Dense(10, name = 'output', activation = 'sigmoid'))\n",
    "  return model"
   ]
  },
  {
   "cell_type": "code",
   "execution_count": null,
   "id": "preliminary-instrument",
   "metadata": {},
   "outputs": [],
   "source": [
    "model = get_basic_model(30)"
   ]
  },
  {
   "cell_type": "code",
   "execution_count": null,
   "id": "exceptional-purpose",
   "metadata": {},
   "outputs": [],
   "source": [
    "model.summary()"
   ]
  },
  {
   "cell_type": "markdown",
   "id": "familiar-landing",
   "metadata": {},
   "source": [
    "# TODO: what does this do exactly?"
   ]
  },
  {
   "cell_type": "code",
   "execution_count": null,
   "id": "early-synthesis",
   "metadata": {},
   "outputs": [],
   "source": [
    "model.compile(optimizer='sgd',\n",
    "              metrics=['accuracy'],\n",
    "              loss=\"mean_squared_error\")"
   ]
  },
  {
   "cell_type": "markdown",
   "id": "717e4c53",
   "metadata": {},
   "source": [
    "Compiling prepares the model for training\n",
    "\n",
    "SGD = Stochastic Gradient Descent (more later)\n",
    "loss is our loss function (as described in video)\n",
    "accuracy is reported during training"
   ]
  },
  {
   "cell_type": "markdown",
   "id": "solar-motor",
   "metadata": {},
   "source": [
    "# TODO: what is an epoch exactly?\n",
    "\n",
    "Gradient Descent is a slow process, so one speed up is to send the data to the algorithms in random batches until all of the data is read. Each time this happens, it's called an 'epoch'."
   ]
  },
  {
   "cell_type": "code",
   "execution_count": null,
   "id": "exterior-gibraltar",
   "metadata": {},
   "outputs": [],
   "source": [
    "fit = model.fit(x_train2,\n",
    "                y_train2,\n",
    "                epochs=1000,\n",
    "                batch_size=5,\n",
    "                verbose=2)"
   ]
  },
  {
   "cell_type": "code",
   "execution_count": null,
   "id": "cultural-reply",
   "metadata": {},
   "outputs": [],
   "source": [
    "score = model.evaluate(x_test2, y_test2)"
   ]
  },
  {
   "cell_type": "markdown",
   "id": "elder-bennett",
   "metadata": {},
   "source": [
    "### Question\n",
    "\n",
    "What do you call it when your model works great on the training data, but doesn't work so well on unseen data?"
   ]
  },
  {
   "cell_type": "markdown",
   "id": "extended-illness",
   "metadata": {},
   "source": [
    "## Regularization\n",
    "\n",
    "Regularization is a method we can use to tackle overfitting.\n",
    "\n",
    "To quote the SciNet neural networks workshop:\n",
    "\n",
    "\"Regularization is an ad hoc technique by which parameters in a model are penalized to prevent\n",
    "individual parameters from becoming excessively important to the fit.\"\n",
    "\n",
    "This technique involves a modification to the cost function our training uses to treat (the extent to which high parameters are penalized is controlled by a parameter lambda ($\\lambda$). (Note that we can't call the parameter `lambda` below, because `lambda` is a reserved keywork in python, so we call in `lam`.)"
   ]
  },
  {
   "cell_type": "code",
   "execution_count": null,
   "id": "bored-anaheim",
   "metadata": {},
   "outputs": [],
   "source": [
    "import keras.models as km\n",
    "import keras.layers as kl\n",
    "import keras.regularizers as kr\n",
    "\n",
    "def get_regularized_model(numnodes, lam=0.0):\n",
    "  model = km.Sequential()\n",
    "  model.add(kl.Dense(numnodes, input_dim = 784, activation = 'sigmoid', name = 'hidden', kernel_regularizer = kr.l2(lam)))\n",
    "  model.add(kl.Dense(10, name = 'output', activation = 'sigmoid',kernel_regularizer = kr.l2(lam)))\n",
    "  return model"
   ]
  },
  {
   "cell_type": "code",
   "execution_count": null,
   "id": "fancy-showcase",
   "metadata": {},
   "outputs": [],
   "source": [
    "model2 = get_regularized_model(30, lam = 0.001)\n",
    "\n",
    "model2.compile(optimizer = 'sgd', metrics = ['accuracy'], loss = \"mean_squared_error\")\n",
    "\n",
    "%time fit2 = model2.fit(x_train2, y_train2, epochs = 1000, batch_size = 5, verbose = 2)"
   ]
  },
  {
   "cell_type": "code",
   "execution_count": null,
   "id": "prime-criticism",
   "metadata": {},
   "outputs": [],
   "source": [
    "model2.evaluate(x_test2, y_test2)"
   ]
  },
  {
   "cell_type": "code",
   "execution_count": null,
   "id": "molecular-maryland",
   "metadata": {},
   "outputs": [],
   "source": [
    "import os\n",
    "from PIL import Image, ImageOps"
   ]
  },
  {
   "cell_type": "code",
   "execution_count": null,
   "id": "lightweight-merit",
   "metadata": {},
   "outputs": [],
   "source": [
    "pwd"
   ]
  },
  {
   "cell_type": "markdown",
   "id": "continent-engineering",
   "metadata": {},
   "source": [
    "https://drawisland.com/?w=200&h=200"
   ]
  },
  {
   "cell_type": "code",
   "execution_count": null,
   "id": "visible-colony",
   "metadata": {},
   "outputs": [],
   "source": [
    "image = Image.open('/tmp/drawisland3.png').resize( (28,28) ).convert( 'L' )\n",
    "image = ImageOps.invert(image)\n",
    "image"
   ]
  },
  {
   "cell_type": "code",
   "execution_count": null,
   "id": "subject-polish",
   "metadata": {},
   "outputs": [],
   "source": [
    "import numpy as np\n",
    "\n",
    "image_array = np.array(image)[:,:].reshape(784)\n",
    "\n",
    "model.predict(np.array([image_array])).argmax()"
   ]
  },
  {
   "cell_type": "code",
   "execution_count": null,
   "id": "chief-phrase",
   "metadata": {},
   "outputs": [],
   "source": [
    "def get_model_more(numnodes):\n",
    "  model = km.Sequential()\n",
    "  model.add(kl.Dense(numnodes, input_dim = 784, activation = 'sigmoid', name = 'hidden'))\n",
    "  model.add(kl.Dense(numnodes, input_dim = numnodes, activation = 'sigmoid', name = 'hidden2'))\n",
    "  model.add(kl.Dense(10, name = 'output', activation = 'sigmoid'))\n",
    "  return model"
   ]
  },
  {
   "cell_type": "code",
   "execution_count": null,
   "id": "dedicated-meter",
   "metadata": {},
   "outputs": [],
   "source": [
    "model3 = get_model_more(16)"
   ]
  },
  {
   "cell_type": "code",
   "execution_count": null,
   "id": "german-compromise",
   "metadata": {},
   "outputs": [],
   "source": [
    "model3.compile(optimizer = 'sgd', metrics = ['accuracy'], loss = \"mean_squared_error\")\n",
    "\n",
    "%time fit3 = model3.fit(x_train2, y_train2, epochs = 1000, batch_size = 5, verbose = 2)"
   ]
  },
  {
   "cell_type": "code",
   "execution_count": null,
   "id": "compatible-zambia",
   "metadata": {},
   "outputs": [],
   "source": [
    "import keras\n",
    "from keras.datasets import mnist\n",
    "import keras.utils as ku\n",
    "import keras.models as km\n",
    "import keras.layers as kl\n",
    "import keras.regularizers as kr\n",
    "\n",
    "import numpy as np\n",
    "import PIL\n",
    "\n",
    "def get_data(num_training, num_testing):\n",
    "    (x_train, y_train), (x_test, y_test) = mnist.load_data()\n",
    "\n",
    "    x_train2 = x_train[0:num_training, :, :].reshape(num_training, 784)\n",
    "    x_test2 = x_test[0:num_testing, :, :].reshape(num_testing, 784)\n",
    "    y_train2 = ku.to_categorical(y_train[0:num_training], 10)\n",
    "    y_test2 = ku.to_categorical(y_test[0:num_testing], 10)\n",
    "    \n",
    "    return (x_train2, y_train2), (x_test2, y_test2)\n",
    "\n",
    "def get_model(num_nodes, num_hidden_layers = 1, lam=None):\n",
    "    model = km.Sequential()\n",
    "    regularizer = None\n",
    "    if lam:\n",
    "        regularizer = kr.l2(lam)\n",
    "\n",
    "    # First hidden layer\n",
    "    model.add(kl.Dense(num_nodes,\n",
    "                       input_dim=784,\n",
    "                       activation='sigmoid',\n",
    "                       name ='hidden',\n",
    "                       kernel_regularizer=regularizer))\n",
    "\n",
    "    # Additional hidden layers\n",
    "    hidden_layers = num_hidden_layers - 1\n",
    "    while (hidden_layers > 0):\n",
    "        model.add(kl.Dense(num_nodes,\n",
    "                           input_dim=num_nodes,\n",
    "                           activation='sigmoid',\n",
    "                           kernel_regularizer=regularizer))\n",
    "        hidden_layers -= 1\n",
    "\n",
    "    # Output layer\n",
    "    model.add(kl.Dense(10,\n",
    "                       name='output',\n",
    "                       activation='sigmoid',\n",
    "                       kernel_regularizer=regularizer))\n",
    "    \n",
    "    model.compile(optimizer ='sgd',\n",
    "                  metrics =['accuracy'],\n",
    "                  loss=\"mean_squared_error\")\n",
    "\n",
    "    return model\n",
    "\n",
    "def train_model(model, x_train, y_train, epochs=1000):\n",
    "    fit = model.fit(x_train,\n",
    "                    y_train,\n",
    "                    epochs=epochs,\n",
    "                    batch_size=5,\n",
    "                    verbose=2)\n",
    "    \n",
    "def evaluate_model(model, x_test, y_test):\n",
    "    model.evaluate(x_test, y_test)\n",
    "\n",
    "def model_predict(filename):\n",
    "    image = PIL.Image.open(filename).resize( (28,28) ).convert( 'L' )\n",
    "    image = PIL.ImageOps.invert(image)\n",
    "    print(\"Image:\")\n",
    "    display(image)\n",
    "    image_array = np.array(image)[:,:].reshape(784)\n",
    "    prediction = model.predict(np.array([image_array])).argmax()\n",
    "    print(\"Prediction: {}\".format(prediction))"
   ]
  },
  {
   "cell_type": "code",
   "execution_count": null,
   "id": "directed-beast",
   "metadata": {},
   "outputs": [],
   "source": [
    "NUM_TRAINING = 1000 # 60000 max\n",
    "NUM_TESTING = 200 # 10000 max\n",
    "\n",
    "NUM_NODES = 30\n",
    "NUM_HIDDEN_LAYERS = 1\n",
    "\n",
    "(x_train, y_train), (x_test, y_test) = get_data(num_training=NUM_TRAINING,\n",
    "                                                num_testing=NUM_TESTING)\n",
    "model = get_model(num_nodes=NUM_NODES,\n",
    "                  num_hidden_layers=NUM_HIDDEN_LAYERS,\n",
    "                  lam=0.01)\n",
    "%time train_model(model, x_train, y_train)\n",
    "evaluate_model(model, x_test, y_test)"
   ]
  },
  {
   "cell_type": "code",
   "execution_count": null,
   "id": "indonesian-water",
   "metadata": {},
   "outputs": [],
   "source": [
    "import glob\n",
    "for filename in glob.glob('data/numbers/*.png'):\n",
    "    model_predict(filename)"
   ]
  },
  {
   "cell_type": "code",
   "execution_count": null,
   "id": "761cbaf4",
   "metadata": {},
   "outputs": [],
   "source": [
    "# Download data and solutions\n",
    "\n",
    "import urllib.request\n",
    "import os\n",
    "\n",
    "def download_data(path, branch='main'):\n",
    "    base_url = 'https://raw.githubusercontent.com/ualberta-rcg/python-machine-learning'\n",
    "    if os.path.exists(path):\n",
    "        return\n",
    "    if not os.path.exists('data'):\n",
    "        os.mkdir('data')\n",
    "    if not os.path.exists('data/numbers'):\n",
    "        os.mkdir('data/numbers')\n",
    "    url = '{}/{}/notebooks/{}'.format(base_url, branch, path)\n",
    "    output_file = path\n",
    "    urllib.request.urlretrieve(url, output_file)\n",
    "    print(\"Downloaded \" + path)\n",
    "\n",
    "download_data('data/numbers/cwant_1.png')\n",
    "download_data('data/numbers/cwant_3.png')\n",
    "download_data('data/numbers/cwant_5.png')\n",
    "download_data('data/numbers/cwant_8.png')"
   ]
  },
  {
   "cell_type": "code",
   "execution_count": null,
   "id": "grand-balance",
   "metadata": {},
   "outputs": [],
   "source": [
    "model.layers"
   ]
  },
  {
   "cell_type": "code",
   "execution_count": null,
   "id": "large-order",
   "metadata": {},
   "outputs": [],
   "source": [
    "import pandas\n"
   ]
  },
  {
   "cell_type": "code",
   "execution_count": null,
   "id": "abandoned-vitamin",
   "metadata": {},
   "outputs": [],
   "source": [
    "pandas.Series"
   ]
  },
  {
   "cell_type": "code",
   "execution_count": null,
   "id": "industrial-criticism",
   "metadata": {},
   "outputs": [],
   "source": [
    "pandas.Series(y_train)"
   ]
  },
  {
   "cell_type": "code",
   "execution_count": null,
   "id": "informational-handbook",
   "metadata": {},
   "outputs": [],
   "source": [
    "y_train"
   ]
  },
  {
   "cell_type": "code",
   "execution_count": null,
   "id": "former-posting",
   "metadata": {},
   "outputs": [],
   "source": [
    "y_values = [v.argmax() for v in y_train]"
   ]
  },
  {
   "cell_type": "code",
   "execution_count": null,
   "id": "emerging-education",
   "metadata": {},
   "outputs": [],
   "source": [
    "pandas.Series(y_values).value_counts()"
   ]
  },
  {
   "cell_type": "code",
   "execution_count": null,
   "id": "under-pharmaceutical",
   "metadata": {},
   "outputs": [],
   "source": [
    "from tensorflow.python.client import device_lib\n",
    "print(device_lib.list_local_devices())\n"
   ]
  },
  {
   "cell_type": "code",
   "execution_count": null,
   "id": "6fca3394",
   "metadata": {},
   "outputs": [],
   "source": [
    "import tensorflow as tf\n",
    "print(\"Num GPUs Available: \", len(tf.config.list_physical_devices('GPU')))"
   ]
  },
  {
   "cell_type": "code",
   "execution_count": null,
   "id": "985b9429",
   "metadata": {},
   "outputs": [],
   "source": []
  }
 ],
 "metadata": {
  "kernelspec": {
   "display_name": "Python 3",
   "language": "python",
   "name": "python3"
  },
  "language_info": {
   "codemirror_mode": {
    "name": "ipython",
    "version": 3
   },
   "file_extension": ".py",
   "mimetype": "text/x-python",
   "name": "python",
   "nbconvert_exporter": "python",
   "pygments_lexer": "ipython3",
   "version": "3.8.6"
  }
 },
 "nbformat": 4,
 "nbformat_minor": 5
}
